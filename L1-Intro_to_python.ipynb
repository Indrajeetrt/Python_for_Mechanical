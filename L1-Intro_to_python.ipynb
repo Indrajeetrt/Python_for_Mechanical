{
 "cells": [
  {
   "cell_type": "markdown",
   "metadata": {},
   "source": [
    "# Lecture 1 - Introduction to python"
   ]
  },
  {
   "cell_type": "markdown",
   "metadata": {},
   "source": [
    "### What is python ?\n",
    "* Python is a high-level, interpreted programming language that is widely used across multiple industries.\n",
    "* It is known for its simple and readable syntax, making it beginner-friendly.\n",
    "* Python is general-purpose, meaning it can be used for:\n",
    "    1. Web Development: Django, Flask\n",
    "    2. Data Science & Machine Learning: Pandas, NumPy, Scikit-learn\n",
    "    3. Automation & Scripting: Automating repetitive tasks\n",
    "    4. Cybersecurity & Ethical Hacking: Used in penetration testing\n",
    "    5. Game Development: Pygame for developing simple games\n",
    "    6. Finance & Stock Market Analysis: Algorithmic trading using Python\n",
    "    7. Embedded Systems & IoT: Used in Raspberry Pi projects"
   ]
  },
  {
   "cell_type": "markdown",
   "metadata": {},
   "source": [
    "Interpreted means : An interpreted language is a programming language where the code is executed line by line by an interpreter unlike c/c++ where you need to compile it into a separate executable file like in C or C++.\n",
    "\n",
    "⚙️ Difference Between Compiled and Interpreted Languages\n",
    "| Feature | Interpreted Language (e.g. Python) | Compiled Language (e.g. C, C++) |\n",
    "|----------|----------|----------|\n",
    "| Execution | Line by line | Whole program is compiled first |\n",
    "| Speed | Slower (generally) | Faster execution |\n",
    "| Errors | Detected during execution | Detected during compilation |\n",
    "| Output | No separate executable file | Creates a .exe or binary file |\n",
    "| Editing & Testing | Easier to test small changes | Need to recompile for changes |"
   ]
  },
  {
   "cell_type": "markdown",
   "metadata": {},
   "source": [
    "### Why Learn Python?\n",
    "\n",
    "* Easy to Learn & Use: The syntax is similar to English, making it beginner-friendly.\n",
    "* Extensive Libraries & Frameworks: Comes with powerful built-in modules (like os, sys, math) and third-party libraries.\n",
    "* Cross-Platform Compatibility: Runs on Windows, macOS, Linux without modification.\n",
    "* Interpreted Language: No need to compile; runs line by line.\n",
    "* Open Source & Large Community: Actively maintained by developers worldwide.\n",
    "* Highly In-Demand Skill: Used in top tech companies like Google, Facebook, and Amazon."
   ]
  },
  {
   "cell_type": "markdown",
   "metadata": {},
   "source": [
    "### Why Python is created\n",
    "Once upon a time, in the late 1980s, there lived a programmer named Guido van Rossum in the Netherlands. Guido had a keen mind and a passion for creating tools that made people's lives easier. He worked on a programming language called ABC, which had some good ideas but fell short in certain areas. Guido, however, saw its potential and carried a dream in his heart—to create a programming language that was simple, powerful, and elegant.\n",
    "\n",
    "One snowy December, while reflecting on the quirks and complexities of programming, an idea struck him. He envisioned a language that could be understood as easily as reading a book, one that beginners could learn and use without fear, but also one that would be robust enough for professionals to tackle big, complex problems. Thus began Guido's quest to create this language.\n",
    "\n",
    "During a quiet holiday break, Guido set to work in his small home office. With a cup of coffee by his side and determination in his heart, he started developing what would later become Python. He named it not after the snake, as many assume, but as a tribute to his favorite comedy troupe, Monty Python, because he wanted the language to be fun as well as practical.\n",
    "\n",
    "Guido's language grew out of a few guiding principles: clarity, simplicity, and versatility. He wanted its code to feel natural, almost like writing English. He imagined a world where coders wouldn't get tangled up in unnecessary complexity, and their ideas could come to life swiftly and efficiently.\n",
    "\n",
    "By 1991, Guido's vision was ready to share with the world. He released Python as an open-source language, inviting others to use, improve, and grow it. To his amazement, people around the globe embraced it with enthusiasm, and Python began to thrive. From data scientists to web developers, students to AI researchers, Python became a universal language of innovation.\n",
    "\n",
    "Today, Python stands as a testament to Guido's dream—a language that bridges the gap between simplicity and power, creativity and practicality. Its story is not just one of code, but of human ingenuity and the desire to make knowledge and tools accessible to all."
   ]
  },
  {
   "cell_type": "markdown",
   "metadata": {},
   "source": [
    "**In the late 1980s, Guido van Rossum wanted to create a programming language that was simple, readable, and powerful. Inspired by his work on the ABC language, he started developing Python during a holiday break, naming it after his favorite comedy troupe, Monty Python. Guido aimed for Python to feel intuitive, like writing in plain English, while being versatile enough for various applications. Released in 1991 as open-source, Python quickly gained popularity for its accessibility and flexibility, becoming a favorite among developers worldwide.**"
   ]
  },
  {
   "cell_type": "markdown",
   "metadata": {},
   "source": [
    "### Features of Python\n",
    "1.  Simplicity & Readability\n",
    "    Python code is similar to English and does not use semicolons {} like C++ or Java.\n",
    "2. Interpreted Language\n",
    "No need to compile; Python code is executed line by line.\n",
    "3. No need to define variable types explicitly.\n",
    "4. Python has built-in libraries for math, statistics, OS operations, file handling, and more.\n",
    "5. Python supports both OOP (Classes & Objects) and Functional Programming (Lambda functions, Higher-order functions)."
   ]
  },
  {
   "cell_type": "markdown",
   "metadata": {},
   "source": []
  }
 ],
 "metadata": {
  "language_info": {
   "name": "python"
  }
 },
 "nbformat": 4,
 "nbformat_minor": 2
}
